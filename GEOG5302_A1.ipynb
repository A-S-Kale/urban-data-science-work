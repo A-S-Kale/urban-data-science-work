{
  "cells": [
    {
      "cell_type": "markdown",
      "id": "f83cf522-438e-4a26-ad15-ded6d8714b47",
      "metadata": {
        "id": "f83cf522-438e-4a26-ad15-ded6d8714b47"
      },
      "source": [
        "# Assessment 1: Anthropogenic pollutants across diverse land covers\n",
        "<a name=\"top\"></a>"
      ]
    },
    {
      "cell_type": "markdown",
      "id": "b643a195-0d97-44a3-b141-5c63d84e8128",
      "metadata": {
        "id": "b643a195-0d97-44a3-b141-5c63d84e8128"
      },
      "source": [
        "❗️ **Deadline: 2pm, Friday 6th December 2024**\n",
        "<br>\n",
        "❗️ **Please Submit your notebook as a PDF. For instructions, see the end of this notebook**\n",
        "\n",
        "This is the first piece of assessed coursework for GEOG5302 Data Science for Practical Applications. It's worth 30% of the module credit. For this assignment, you'll be putting all the skills you've learnt in lectures and computer labs so far into practice. You'll find Labs 1-8 should be helpful in identifying the code and processes you'll need for each step. We start by loading in data, doing some wrangling\n",
        "and visual investigation, before analysing the data using clustering, classification, regression, and some spatial tools.\n",
        "\n",
        "Some of the steps in this notebook are simple stages in preparation/loading needed to complete the larger tasks. Items which are assigned marks will be clearly numbered and highlighted __in bold__, with the number of marks specified in (_italics and brackets_) after the question. To receive the marks, you must clearly type out your answer to demonstrate your understanding- just printing out the answer isn't sufficient.\n",
        "\n",
        "You'll be working with a custom dataset containing dominant land cover and mean values of Nitrogen Oxides (NOx), Nitrogen Dioxide (NO₂), and Sulfur Dioxide (SO₂) (`Land_Cover_and_Pollution_Dataset_2017_2023.csv`) for each Local Administrative Unit (LAU2) in England and Wales (`LAU2_Dec_2014_FCB_in_England_and_Wales.shp`). The dataset spans 2017 to 2023 (7 years) and provides insights into spatial pollution patterns over time.\n"
      ]
    },
    {
      "cell_type": "markdown",
      "id": "s35fullWnLVT",
      "metadata": {
        "id": "s35fullWnLVT"
      },
      "source": [
        "<img src=\"https://upload.wikimedia.org/wikipedia/commons/a/a4/Air_pollution_by_industrial_chimneys.jpg\" alt=\"Industrial chimneys emitting pollutants\" width=\"500\"/>\n",
        "\n",
        "**Figure 1:** Industrial chimneys emitting pollutants into the atmosphere (*source: [Wikimedia Commons](https://commons.wikimedia.org/wiki/File:Air_pollution_by_industrial_chimneys.jpg). License: [CC BY-SA 3.0](https://creativecommons.org/licenses/by-sa/3.0/).*)\n"
      ]
    },
    {
      "cell_type": "markdown",
      "id": "zJx2CBrM9i8o",
      "metadata": {
        "id": "zJx2CBrM9i8o"
      },
      "source": [
        "## The Problem\n",
        "\n",
        "Elevated levels of NOX and NO₂ are linked to a variety of societal issues inlcuding serious respiratory health issues, such as asthma and chronic obstructive pulmonary disease (COPD) [(Yorifuji et al., 2019)](#references) and ground-level ozone, which can lead to smog in dense urban areas [(Chang et al., 2019; Liu et al., 2021)](#references). SO₂ emissions are  linked to industrial activities, leading to acid rain formation that adversely affects both terrestrial and aquatic ecosystems [(Yeung et al., 2021)](#references). SO₂ emissions primarily arise from the combustion of fossil fuels and industrial processes. The formation of acid rain due to SO₂ emissions poses significant threats to ecosystems, affecting soil and water quality [(Oxley et al., 2013)](#references). LAU2 units provide a granular spatial resolution that allows for detailed analysis of air pollution patterns and their impacts at local scales. This level of detail is crucial for identifying specific areas that are disproportionately affected by pollutants such as NOx, NO₂, and SO₂, thereby enabling targeted interventions and resource allocation.\n",
        "\n",
        "_In this assessment we look at NOx, NO₂, and SO₂ at local scales in the context of landcover dominance._\n",
        "\n",
        "\n",
        "\n"
      ]
    },
    {
      "cell_type": "markdown",
      "id": "21ff0f21-6895-49ca-98fb-04a7b578bcbc",
      "metadata": {
        "id": "21ff0f21-6895-49ca-98fb-04a7b578bcbc",
        "jp-MarkdownHeadingCollapsed": true
      },
      "source": [
        "## The Data\n",
        "\n",
        "### Land Cover\n",
        "Dominant land cover (e.g., agriculture, built-up areas, etc.) for each LAU2 is derived from the UK Centre for Ecology and Hydrology (CEH) Land Cover Map series ([LCM](https://www.ceh.ac.uk/data/ukceh-land-cover-maps)). The land classes we used are grouped into a simpler classification called the **UK CEH Aggregate Classes**. Understanding the primary land cover type is essential, as it can influence pollution levels and air quality in different ways.\n",
        "\n",
        "### Atmospheric Pollution\n",
        "Mean annual measurements for **NOx**, **NO₂**, and **SO₂** have been derived from the UK Government's Department for Environment, Food & Rural Affairs ([DEFRA Modelled Background Pollution Data](https://uk-air.defra.gov.uk/data/modelling-data)). We're looking at these three pollutants to explore spatial patterns and understand their impact on air quality and the environment. Each pollutant reveals a unique perspective on air quality.\n",
        "\n",
        "- **Nitrogen Oxides (NOx)**: Primarily linked to vehicles, industry, and some agricultural practices. Elevated NOx levels contribute to respiratory health issues, acid rain formation, ground-level ozone, which can harm both ecosystems and human health.\n",
        "\n",
        "- **Nitrogen Dioxide (NO₂)**: A specific type of NOx often concentrated in urban areas with heavy traffic. Closely tied to vehicle emissions, NO₂ contributes to smog, which is why it's particularly useful to study NO₂ in relation to urban land cover, where pollution may be higher.\n",
        "\n",
        "- **Sulfur Dioxide (SO₂)**: Produced mainly from burning fossil fuels and certain industrial activities. SO₂ can cause acid rain and respiratory health issues, making it especially relevant in areas near industrial zones.\n",
        "\n",
        "### Boundaries\n",
        "The [Local Administrative Units (LAU)](https://ec.europa.eu/eurostat/web/nuts/local-administrative-units) are part of a geographical classification defined by Eurostat to provide a standardised division of territorial units within the EU. Although updated post-Brexit, LAUs remain useful for historical data studies. Specifically, **LAU2** refers to the smallest administrative unit level, covering areas such as parishes, wards, or town boundaries in England and Wales.\n",
        "\n",
        "> _Note_: LAU2 boundaries are similar to the [Lower Super Output Areas (LSOA)](https://www.ons.gov.uk/methodology/geography/ukgeographies/statisticalgeographies) you've used in labs, though they differ in their specific delineations.\n",
        "\n",
        "---\n",
        "\n",
        "*All data and Data Dictionaries can be downloaded from Minerva.*\n",
        "\n"
      ]
    },
    {
      "cell_type": "markdown",
      "id": "3a44c813-28df-45ff-b54a-7e5cbd68db39",
      "metadata": {
        "id": "3a44c813-28df-45ff-b54a-7e5cbd68db39"
      },
      "source": [
        "## Setting Up\n",
        "This is an independent data analysis task, but we'll provide the overall steps and the questions you need to answer in this notebook. We'll make sure you're set up with all the preliminary modules you'll need, too. <br>\n",
        "\n",
        "__Note:__ This is just to get you started! You'll need to import more modules for specific techniqies (e.g. linear regression) later on in the task!"
      ]
    },
    {
      "cell_type": "code",
      "execution_count": null,
      "id": "86beeac6-4501-49b9-a4ff-72489c1bda6b",
      "metadata": {
        "id": "86beeac6-4501-49b9-a4ff-72489c1bda6b"
      },
      "outputs": [],
      "source": [
        "!pip install palettable==3.3.0\n",
        "!pip install descartes==1.1.0\n",
        "!pip install pysal==2.6.0\n",
        "!pip install contextily\n",
        "!pip install geopandas\n",
        "\n",
        "import pandas as pd\n",
        "pd.options.mode.chained_assignment = None\n",
        "import matplotlib.pyplot as plt\n",
        "import seaborn as sns\n",
        "import numpy as np\n",
        "from sklearn import metrics\n",
        "\n",
        "pd.options.mode.chained_assignment = None"
      ]
    },
    {
      "cell_type": "markdown",
      "id": "66e585d6-70c8-47c7-ae88-94bb73e6b630",
      "metadata": {
        "id": "66e585d6-70c8-47c7-ae88-94bb73e6b630"
      },
      "source": [
        "<br>\n",
        "\n",
        "## Over to you!\n",
        "### Load in the data\n",
        "Load in the pollution `.csv` data, using the call `Land_Cover_and_Pollution_Dataset_2017_2023`.\n"
      ]
    },
    {
      "cell_type": "code",
      "execution_count": null,
      "id": "d128ad49-7548-4789-8ae3-4be807f8cbbe",
      "metadata": {
        "id": "d128ad49-7548-4789-8ae3-4be807f8cbbe"
      },
      "outputs": [],
      "source": []
    },
    {
      "cell_type": "markdown",
      "id": "3db18b06-7097-40cb-bb31-1a68c072211f",
      "metadata": {
        "id": "3db18b06-7097-40cb-bb31-1a68c072211f"
      },
      "source": [
        "<br>\n",
        "\n",
        "## Section 1: Describing the Data\n",
        "\n",
        "Start with some quick investigations to get to know the data.\n",
        "\n",
        "__(total: 3 marks)__"
      ]
    },
    {
      "cell_type": "markdown",
      "id": "fa6cbf28-cf6c-4f26-9cfd-61dd142481a3",
      "metadata": {
        "id": "fa6cbf28-cf6c-4f26-9cfd-61dd142481a3"
      },
      "source": [
        "__Question 1: How many rows and variables are in the data? _(1 mark)___"
      ]
    },
    {
      "cell_type": "code",
      "execution_count": null,
      "id": "c5a5d710-2256-4694-b836-f7f7192b6dfe",
      "metadata": {
        "id": "c5a5d710-2256-4694-b836-f7f7192b6dfe"
      },
      "outputs": [],
      "source": []
    },
    {
      "cell_type": "markdown",
      "id": "82e201fc-da92-4a9b-8f7e-a0ad0233f21b",
      "metadata": {
        "id": "82e201fc-da92-4a9b-8f7e-a0ad0233f21b"
      },
      "source": [
        "<br>\n",
        "\n",
        "__Question 2: What different types of variables are in the data set, and what do the types mean? How many are there of each? _(2 marks)___"
      ]
    },
    {
      "cell_type": "code",
      "execution_count": null,
      "id": "8870f486-e3d8-43f1-902f-a67e04cf242a",
      "metadata": {
        "id": "8870f486-e3d8-43f1-902f-a67e04cf242a"
      },
      "outputs": [],
      "source": []
    },
    {
      "cell_type": "markdown",
      "id": "f413febb-876d-419e-b204-0dcec969365b",
      "metadata": {
        "id": "f413febb-876d-419e-b204-0dcec969365b"
      },
      "source": [
        "<br>\n",
        "\n",
        "## Section 2: Data Wrangling\n",
        "\n",
        "You'll need to do some data cleaning and preprocessing, to get the data set ready for analysis.\n",
        "\n",
        "__(total: 13 marks)__"
      ]
    },
    {
      "cell_type": "markdown",
      "id": "63875e7b-fb6c-41f7-9228-194289b7c15a",
      "metadata": {
        "id": "63875e7b-fb6c-41f7-9228-194289b7c15a"
      },
      "source": [
        "__Question 3: Which columns have NAs, and how many are there in each column? Describe what this means _(2 marks)___"
      ]
    },
    {
      "cell_type": "code",
      "execution_count": null,
      "id": "857a492d-44de-4391-9889-f9f52072503f",
      "metadata": {
        "id": "857a492d-44de-4391-9889-f9f52072503f",
        "scrolled": true
      },
      "outputs": [],
      "source": []
    },
    {
      "cell_type": "markdown",
      "id": "dc799e59-e071-4ce1-8085-c25df2b036f3",
      "metadata": {
        "id": "dc799e59-e071-4ce1-8085-c25df2b036f3"
      },
      "source": [
        "\n",
        "__Question 4: One way of dealing with missing values is to remove them. Make this change, and explain how this method may affect the results of our analysis _(2 marks)___"
      ]
    },
    {
      "cell_type": "code",
      "execution_count": null,
      "id": "b2cc9333-72c1-471a-ba5f-828b4b1ca015",
      "metadata": {
        "id": "b2cc9333-72c1-471a-ba5f-828b4b1ca015"
      },
      "outputs": [],
      "source": []
    },
    {
      "cell_type": "markdown",
      "id": "cda1faf6-d411-4484-a5f6-ee248c3a1f01",
      "metadata": {
        "id": "cda1faf6-d411-4484-a5f6-ee248c3a1f01"
      },
      "source": [
        "<br>\n",
        "\n",
        "__Question 5: Create a box plot with year on the x axis, Mean NO2 on the y axis, and categorised by type of Dominant Land Cover. Explain what you observe: _(3 marks)___"
      ]
    },
    {
      "cell_type": "code",
      "execution_count": null,
      "id": "e8a467a6-ebf4-49af-9a09-3c2a4e17deb6",
      "metadata": {
        "id": "e8a467a6-ebf4-49af-9a09-3c2a4e17deb6",
        "scrolled": true
      },
      "outputs": [],
      "source": []
    },
    {
      "cell_type": "markdown",
      "id": "f1d5782d-ad76-45f2-9a6f-d5525e29be9f",
      "metadata": {
        "id": "f1d5782d-ad76-45f2-9a6f-d5525e29be9f"
      },
      "source": [
        "<br>\n",
        "\n",
        "__Question 6: It looks like something has gone wrong with one of the years. What do you think might have happened? Provide an explanation, and rectify the mistake with the year. Recreate the box plot to demonstrate this has worked _(2 marks)___"
      ]
    },
    {
      "cell_type": "code",
      "execution_count": null,
      "id": "47d5c324-2cbc-4df3-bc80-6d414347e930",
      "metadata": {
        "id": "47d5c324-2cbc-4df3-bc80-6d414347e930"
      },
      "outputs": [],
      "source": []
    },
    {
      "cell_type": "markdown",
      "id": "7b58c82e-5050-4a40-acb5-cda39d753b66",
      "metadata": {
        "id": "7b58c82e-5050-4a40-acb5-cda39d753b66"
      },
      "source": [
        "<br>\n",
        "\n",
        "__Question 7: The final stage of our wrangling requires us to create dummy variables for each of our different land cover types, so they can later be included in regression models. Check the values first, then create a set of dummies, called `Lc_`, followed by the type. Then use `info` to show that this has worked. _(2 marks)___"
      ]
    },
    {
      "cell_type": "code",
      "execution_count": null,
      "id": "e2a9e4af-7bdb-4669-bf39-27687b6712ad",
      "metadata": {
        "id": "e2a9e4af-7bdb-4669-bf39-27687b6712ad",
        "scrolled": true
      },
      "outputs": [],
      "source": []
    },
    {
      "cell_type": "markdown",
      "id": "09afe547-15e9-412c-bd2d-1962721139c1",
      "metadata": {
        "id": "09afe547-15e9-412c-bd2d-1962721139c1"
      },
      "source": [
        "__Question 8: Finally, create a stacked histogram of the total counts/frequency of `Dominant land cover` using `hue`: _(2 marks)___"
      ]
    },
    {
      "cell_type": "code",
      "execution_count": null,
      "id": "5416686c-d034-4761-b4e9-035e71ee8b83",
      "metadata": {
        "id": "5416686c-d034-4761-b4e9-035e71ee8b83"
      },
      "outputs": [],
      "source": []
    },
    {
      "cell_type": "markdown",
      "id": "9cb2d31c-716d-4996-b5c1-8f48e5effbe8",
      "metadata": {
        "id": "9cb2d31c-716d-4996-b5c1-8f48e5effbe8"
      },
      "source": [
        "<br>\n",
        "\n",
        "## Statistics\n",
        "You'll now begin to statistically explore the variables and relationships between them.\n",
        "\n",
        "__(total: 13 marks)__"
      ]
    },
    {
      "cell_type": "markdown",
      "id": "d5395b7a-3394-4336-a4fc-d02d5e06f3a8",
      "metadata": {
        "id": "d5395b7a-3394-4336-a4fc-d02d5e06f3a8"
      },
      "source": [
        "__Question 9: What is the mean SO₂ measurement in 2018 (round your answer to 2 decimal places)? _(1 mark)___"
      ]
    },
    {
      "cell_type": "code",
      "execution_count": null,
      "id": "922fe7aa-ae66-4f5c-bc92-a3b11018579f",
      "metadata": {
        "id": "922fe7aa-ae66-4f5c-bc92-a3b11018579f"
      },
      "outputs": [],
      "source": []
    },
    {
      "cell_type": "markdown",
      "id": "847db191-70c6-4d61-bb09-4df8c0c75cb0",
      "metadata": {
        "id": "847db191-70c6-4d61-bb09-4df8c0c75cb0"
      },
      "source": [
        "<br>\n",
        "\n",
        "__Hypothesis Testing__\n",
        "Before we start building predictive models, we're going to use hypothesis testing to examine the relationship between a couple of variables of interest. We're going to be focussing on the SO₂ levels for different land cover types. Our research question will be: _'is there a relationship between land cover type and levels of SO₂ pollution?'_"
      ]
    },
    {
      "cell_type": "markdown",
      "id": "15e02e77-5acb-4ece-b59b-a4a39001843f",
      "metadata": {
        "id": "15e02e77-5acb-4ece-b59b-a4a39001843f"
      },
      "source": [
        "__Question 10: We'll start by creating a null hypothesis. Please explain what is meant by a null hypothesis: _(1 mark)___"
      ]
    },
    {
      "cell_type": "code",
      "execution_count": null,
      "id": "8d06421b-c4ed-4ba3-bc9e-fdebf0dc4f65",
      "metadata": {
        "id": "8d06421b-c4ed-4ba3-bc9e-fdebf0dc4f65"
      },
      "outputs": [],
      "source": []
    },
    {
      "cell_type": "markdown",
      "id": "837d1988-8f63-40a2-80b2-d2a4754d8d5a",
      "metadata": {
        "id": "837d1988-8f63-40a2-80b2-d2a4754d8d5a"
      },
      "source": [
        "<br>\n",
        "\n",
        "__Question 11: If we assume our null hypothesis is that \"there is no statistically significant difference in average SO₂ emissions between 'Built-up Areas and Gardens', and 'Arable' \", what would our alternative hypothesis be? _(1 mark)___"
      ]
    },
    {
      "cell_type": "code",
      "execution_count": null,
      "id": "8306e009-9015-427f-9cec-abe5d48f865d",
      "metadata": {
        "id": "8306e009-9015-427f-9cec-abe5d48f865d"
      },
      "outputs": [],
      "source": []
    },
    {
      "cell_type": "markdown",
      "id": "e8f416e6-20cc-479d-8f15-cc215519869d",
      "metadata": {
        "id": "e8f416e6-20cc-479d-8f15-cc215519869d"
      },
      "source": [
        "<br>\n",
        "\n",
        "__Question 12: To see if there is a difference between groups, we can start by running a t-test to examine the difference between SO₂ emission levels for Built-up Areas and Gardens, and Arable. Run the t-test below, report the value to 2 decimal places, and explain what the results show. Please also justify which type of t-test you have used. _(4 marks)___"
      ]
    },
    {
      "cell_type": "code",
      "execution_count": null,
      "id": "553bf49c-d2c2-47c3-a615-bdf698c8a0f6",
      "metadata": {
        "id": "553bf49c-d2c2-47c3-a615-bdf698c8a0f6"
      },
      "outputs": [],
      "source": []
    },
    {
      "cell_type": "markdown",
      "id": "8f2c0917-61cb-4e7b-b3e3-b55f256ba506",
      "metadata": {
        "id": "8f2c0917-61cb-4e7b-b3e3-b55f256ba506"
      },
      "source": [
        "<br>\n",
        "\n",
        "__Question 13: Going back to our hypotheses, which hypothesis do we accept, and which do we reject? Is there a difference in SO₂ levels between Built-up Areas and Gardens, and Arable? _(1 mark)___"
      ]
    },
    {
      "cell_type": "code",
      "execution_count": null,
      "id": "2e0aad53-9324-419b-9e79-e1427feb8da5",
      "metadata": {
        "id": "2e0aad53-9324-419b-9e79-e1427feb8da5"
      },
      "outputs": [],
      "source": []
    },
    {
      "cell_type": "markdown",
      "id": "f70e433b-4f1e-46c9-9f1c-ff8002be47f4",
      "metadata": {
        "id": "f70e433b-4f1e-46c9-9f1c-ff8002be47f4"
      },
      "source": [
        "<br>\n",
        "\n",
        "__Question 14: Before we start building predictive models, we'll explore the correlations between our key variables of interest. Create a subset (called `pollution_sub` which includes the columns for year, NOx, NO₂, S0₂, and the land cover dummies. Then create an annotated correlation heat map of this data.__\n",
        "\n",
        "__a) Which variables have the strongest negative assocation, and what is the value of this? _(1 marks)___\n",
        "\n",
        "__b) What is the association between Arable, and Improved grassland? _(1 mark)___\n",
        "\n",
        "*Hint: for the heatmap add the following parameters to make sure you can read the table:* `annot_kws={\"size\": 8}, fmt=\".2f\"`"
      ]
    },
    {
      "cell_type": "code",
      "execution_count": null,
      "id": "e2318a4b-580d-4818-8e57-ef7689fda4ca",
      "metadata": {
        "id": "e2318a4b-580d-4818-8e57-ef7689fda4ca"
      },
      "outputs": [],
      "source": []
    },
    {
      "cell_type": "markdown",
      "id": "512e47cc-93d1-460a-a384-83b5a2c7a4e4",
      "metadata": {
        "id": "512e47cc-93d1-460a-a384-83b5a2c7a4e4"
      },
      "source": [
        "<br>\n",
        "\n",
        "__Question 15: Finally, create a scatterplot of age and average emissions, coloured by dominant land cover type. Comment on what you observe _(3 marks)___"
      ]
    },
    {
      "cell_type": "code",
      "execution_count": null,
      "id": "b6d6cca8-8fd0-4292-9107-4a26bdad4466",
      "metadata": {
        "id": "b6d6cca8-8fd0-4292-9107-4a26bdad4466"
      },
      "outputs": [],
      "source": []
    },
    {
      "cell_type": "markdown",
      "id": "631b126e-4272-4bc0-8a0b-1e5253b85160",
      "metadata": {
        "id": "631b126e-4272-4bc0-8a0b-1e5253b85160"
      },
      "source": [
        "For the clustering and classifications sections of our notebook, we'll focus just the top three dominant land covers (Built-up Areas and Gardens', 'Arable', and 'Improved Grassland') and only focus on the year 2020. Create a subset here  with just these variables, called `pollution_2020`."
      ]
    },
    {
      "cell_type": "code",
      "execution_count": null,
      "id": "638a0145-27d1-43f7-8185-5f40e5b75f17",
      "metadata": {
        "id": "638a0145-27d1-43f7-8185-5f40e5b75f17"
      },
      "outputs": [],
      "source": []
    },
    {
      "cell_type": "markdown",
      "id": "318f21e9-9083-4560-b106-1d8d3a464fd7",
      "metadata": {
        "id": "318f21e9-9083-4560-b106-1d8d3a464fd7"
      },
      "source": [
        "<br>\n",
        "\n",
        "## Clustering\n",
        "You'll now start exploring these relationships in more detail, by clustering your data.\n",
        "\n",
        "Start with the K-Means method.\n",
        "\n",
        "(__total: 10 marks__)\n"
      ]
    },
    {
      "cell_type": "markdown",
      "id": "34696293-0ee9-46b1-9cea-c1a0c07e7688",
      "metadata": {
        "id": "34696293-0ee9-46b1-9cea-c1a0c07e7688"
      },
      "source": [
        "First, create a new subset of the data, called `pollution_stats`. This should include just NO2 and SO2 emissions for 2020."
      ]
    },
    {
      "cell_type": "code",
      "execution_count": null,
      "id": "bd7dd7c3-1de5-4fb4-a938-16039a69e9fe",
      "metadata": {
        "id": "bd7dd7c3-1de5-4fb4-a938-16039a69e9fe"
      },
      "outputs": [],
      "source": []
    },
    {
      "cell_type": "markdown",
      "id": "e29cf544-b713-4e15-80c3-9253e68d5b9f",
      "metadata": {
        "id": "e29cf544-b713-4e15-80c3-9253e68d5b9f"
      },
      "source": [
        "<br>\n",
        "\n",
        "__Question 16: Using your pollution_stats dataset, use the elbow method to find the optimal number of clusters to use. Test for between 1 and 10 clusters, plot your results, and explain your choice of K- with reference to the meaning of the x and y axis. _(4 marks)___"
      ]
    },
    {
      "cell_type": "code",
      "execution_count": null,
      "id": "707b3b0a-ed4e-4ea7-ae00-249cf46dcc69",
      "metadata": {
        "id": "707b3b0a-ed4e-4ea7-ae00-249cf46dcc69"
      },
      "outputs": [],
      "source": []
    },
    {
      "cell_type": "markdown",
      "id": "9a2ab2da-bb6a-48f0-a798-f32279e99141",
      "metadata": {
        "id": "9a2ab2da-bb6a-48f0-a798-f32279e99141"
      },
      "source": [
        "<br>\n",
        "\n",
        "__Question 17: Create a K-Means clustering model using your chosen number of clusters. Report the silhouette score (rounded to 3 decimal places), and explain what this means. _(3 marks)___\n",
        "\n",
        "(__note:__ the silhouette score can take a minute to run- this is quite a big data set!)"
      ]
    },
    {
      "cell_type": "code",
      "execution_count": null,
      "id": "cb33968d-c0bf-44dc-91ef-a34020c1aa20",
      "metadata": {
        "id": "cb33968d-c0bf-44dc-91ef-a34020c1aa20"
      },
      "outputs": [],
      "source": []
    },
    {
      "cell_type": "markdown",
      "id": "8a27e046-fa4b-443b-a4ad-166063c51f2c",
      "metadata": {
        "id": "8a27e046-fa4b-443b-a4ad-166063c51f2c"
      },
      "source": [
        "<br>\n",
        "\n",
        "To compare the fit of our model, we could use another clustering method, such as DBSCAN.\n",
        "This function requires to values for `eps` (epsilon) and `min_samples` to be specified.\n",
        "\n",
        "__Question 18: Explain how the DBSCAN Algorithm uses these values to calculate clusters _(3 marks)___"
      ]
    },
    {
      "cell_type": "code",
      "execution_count": null,
      "id": "f71dde5f-9c4c-4a52-9ec3-a0028e910a6f",
      "metadata": {
        "id": "f71dde5f-9c4c-4a52-9ec3-a0028e910a6f"
      },
      "outputs": [],
      "source": []
    },
    {
      "cell_type": "markdown",
      "id": "f880937d-80f9-46c3-9719-2d8870927b61",
      "metadata": {
        "id": "f880937d-80f9-46c3-9719-2d8870927b61"
      },
      "source": [
        "<br>\n",
        "\n",
        "## Classification\n",
        "\n",
        "You'll extend what you've learnt from the clustering model, by adding back in Dominant Land Cover, to predict this based on pollutants.\n",
        "\n",
        "__(total: 16 marks)__"
      ]
    },
    {
      "cell_type": "markdown",
      "id": "511069f6-0636-46c3-bc5f-ff65e18f1192",
      "metadata": {
        "id": "511069f6-0636-46c3-bc5f-ff65e18f1192"
      },
      "source": [
        "__Question 19: Explain the difference between supervised and _un_ supervised learning methods, and how they are used with different data types _(1 mark)___"
      ]
    },
    {
      "cell_type": "code",
      "execution_count": null,
      "id": "faeb54ec-ea3d-4d5d-a194-f9951d54a480",
      "metadata": {
        "id": "faeb54ec-ea3d-4d5d-a194-f9951d54a480"
      },
      "outputs": [],
      "source": []
    },
    {
      "cell_type": "markdown",
      "id": "d635ed55-926f-4c3f-85e7-5312126a10d0",
      "metadata": {
        "id": "d635ed55-926f-4c3f-85e7-5312126a10d0"
      },
      "source": [
        "Go back to your pollution_stats data, and add the original `Dominant land cover` variable back in, but only focusing on the top three dominant land covers (Built-up Areas and Gardens', 'Arable', and 'Improved Grassland').\n",
        "\n",
        "This should give you a dataset with SO₂, NO₂, Dominant land cover, again for the year 2020, but as we only extract out the three top landcovers, the number or rows is reduced slightly."
      ]
    },
    {
      "cell_type": "code",
      "execution_count": null,
      "id": "a526ee3b-d2ec-4082-862f-f8611b7bb0bb",
      "metadata": {
        "id": "a526ee3b-d2ec-4082-862f-f8611b7bb0bb"
      },
      "outputs": [],
      "source": []
    },
    {
      "cell_type": "markdown",
      "id": "b33d18b2-d8e0-46b8-90a2-021c7781f235",
      "metadata": {
        "id": "b33d18b2-d8e0-46b8-90a2-021c7781f235"
      },
      "source": [
        "One problem is that sklearn only allows us to classify on numeric data, so we need to convert our three top land cover classes ('Built-up Areas and Gardens', 'Arable', 'Improved Grassland') into integers (0,1,2). To do this, use the `key` method, which can recode categorical data. Assign this to a new variable `Lc_type`:"
      ]
    },
    {
      "cell_type": "code",
      "execution_count": null,
      "id": "4802f99f-5b98-492d-b734-13b11faaf76b",
      "metadata": {
        "id": "4802f99f-5b98-492d-b734-13b11faaf76b"
      },
      "outputs": [],
      "source": []
    },
    {
      "cell_type": "markdown",
      "id": "4dc96335-187a-4bed-b59e-58e4415fc7e7",
      "metadata": {
        "id": "4dc96335-187a-4bed-b59e-58e4415fc7e7"
      },
      "source": [
        "Load in the label encoder and encode the labels, using the new `Lc_type` variable."
      ]
    },
    {
      "cell_type": "code",
      "execution_count": null,
      "id": "b50f5b1c-5eed-4fc6-8af2-a79967226a2b",
      "metadata": {
        "id": "b50f5b1c-5eed-4fc6-8af2-a79967226a2b"
      },
      "outputs": [],
      "source": []
    },
    {
      "cell_type": "markdown",
      "id": "66f5ec6c-a52e-4083-99de-918c16b41629",
      "metadata": {
        "id": "66f5ec6c-a52e-4083-99de-918c16b41629"
      },
      "source": [
        "Now split the data into training and test datasets, using a 75:25 split. Set the random state to 42 (`random_state=42`)."
      ]
    },
    {
      "cell_type": "code",
      "execution_count": null,
      "id": "137e98d0-cc2e-42b9-a180-cf4a34449180",
      "metadata": {
        "id": "137e98d0-cc2e-42b9-a180-cf4a34449180"
      },
      "outputs": [],
      "source": []
    },
    {
      "cell_type": "markdown",
      "id": "866764e7-d782-4c2f-ae82-22f665ac5af5",
      "metadata": {
        "id": "866764e7-d782-4c2f-ae82-22f665ac5af5"
      },
      "source": [
        "<br>\n",
        "\n",
        "__Question 20: How many instances are in the testing and training sets? Explain how these are used to create a classification model _(3 marks)___"
      ]
    },
    {
      "cell_type": "code",
      "execution_count": null,
      "id": "b8b73585-bc36-43ae-95c8-baac83760143",
      "metadata": {
        "id": "b8b73585-bc36-43ae-95c8-baac83760143"
      },
      "outputs": [],
      "source": []
    },
    {
      "cell_type": "markdown",
      "id": "c6ed870c-19c0-4773-8580-b371ac8dc6aa",
      "metadata": {
        "id": "c6ed870c-19c0-4773-8580-b371ac8dc6aa"
      },
      "source": [
        "Now you're going to build two types of models: a decision tree, and a K-Nearest Neighbours, and then compare the results to find the best fit."
      ]
    },
    {
      "cell_type": "markdown",
      "id": "e2d894f6-1d0f-4e19-8dbc-e81872583461",
      "metadata": {
        "id": "e2d894f6-1d0f-4e19-8dbc-e81872583461"
      },
      "source": [
        "First build a decision tree, set the random state to 42 (`random_state=42`), and fit it to the data."
      ]
    },
    {
      "cell_type": "code",
      "execution_count": null,
      "id": "3d118153-a1d0-4493-a573-615c4527679f",
      "metadata": {
        "id": "3d118153-a1d0-4493-a573-615c4527679f"
      },
      "outputs": [],
      "source": []
    },
    {
      "cell_type": "markdown",
      "id": "71a44008-c970-4a4d-a4db-ac45889d6755",
      "metadata": {
        "id": "71a44008-c970-4a4d-a4db-ac45889d6755"
      },
      "source": [
        "<br>\n",
        "\n",
        "__Question 21:__ <br>\n",
        "__a) How does the model score? (to 3 decimal places) _(1 mark)___ <br>\n",
        "__b) What is the model weighted average Precision and Recall? _(2 marks)___ <br>"
      ]
    },
    {
      "cell_type": "code",
      "execution_count": null,
      "id": "cf16ef8d-b6d9-4bd8-89c0-455238dee894",
      "metadata": {
        "id": "cf16ef8d-b6d9-4bd8-89c0-455238dee894"
      },
      "outputs": [],
      "source": []
    },
    {
      "cell_type": "markdown",
      "id": "a9e3216c-e7a6-4485-b4aa-dd21b27d6ff8",
      "metadata": {
        "id": "a9e3216c-e7a6-4485-b4aa-dd21b27d6ff8"
      },
      "source": [
        "__Question 22: Now plot the confusion matrix. Comment on what you observe? _(2 marks)___"
      ]
    },
    {
      "cell_type": "code",
      "execution_count": null,
      "id": "0c7813c4-7f62-402d-ab59-6c063b745da2",
      "metadata": {
        "id": "0c7813c4-7f62-402d-ab59-6c063b745da2"
      },
      "outputs": [],
      "source": []
    },
    {
      "cell_type": "markdown",
      "id": "1162bdcc-3bb6-4adf-8bb8-f91f1a6e5025",
      "metadata": {
        "id": "1162bdcc-3bb6-4adf-8bb8-f91f1a6e5025"
      },
      "source": [
        "You can now compare the results of the decision tree to a K-nearest neighbour classifier. Use the nearest 20 neighbours to build the model. <br>\n",
        "\n",
        "__Question 23:__ <br>\n",
        "__a) How does the model score? (to 3 decimal places) _(1 mark)___ <br>\n",
        "__b) What is the model weighted average Precision and Recall? _(2 marks)___ <br>"
      ]
    },
    {
      "cell_type": "code",
      "execution_count": null,
      "id": "7009b628-4f08-4cba-909a-85c087fe2f59",
      "metadata": {
        "id": "7009b628-4f08-4cba-909a-85c087fe2f59"
      },
      "outputs": [],
      "source": []
    },
    {
      "cell_type": "markdown",
      "id": "6001f6b9-8f95-4832-98da-5436037a7a31",
      "metadata": {
        "id": "6001f6b9-8f95-4832-98da-5436037a7a31"
      },
      "source": [
        "<br>\n",
        "\n",
        "__Question 24: Now plot the confusion matrix. Comment on what you observe? _(2 marks)___"
      ]
    },
    {
      "cell_type": "code",
      "execution_count": null,
      "id": "e487ae62-9193-4d3d-95e2-51831a36ea8c",
      "metadata": {
        "id": "e487ae62-9193-4d3d-95e2-51831a36ea8c"
      },
      "outputs": [],
      "source": []
    },
    {
      "cell_type": "markdown",
      "id": "5119c73f-0f4f-4c9e-8998-76647a6bbe30",
      "metadata": {
        "id": "5119c73f-0f4f-4c9e-8998-76647a6bbe30"
      },
      "source": [
        "<br>\n",
        "\n",
        "__Question 25: Compare the statistical and visual results of the classification algorithms. Which is most effective, and does this vary by category? _(2 marks)___\n",
        "<br>\n",
        "__Hint:__ Remember the meaning of the classes: 0 = Built-up Areas and Gardens, 1 = Arable, 2 = Improved Grassland"
      ]
    },
    {
      "cell_type": "code",
      "execution_count": null,
      "id": "04f6873c-3867-4985-b414-d3ae4703c12b",
      "metadata": {
        "id": "04f6873c-3867-4985-b414-d3ae4703c12b"
      },
      "outputs": [],
      "source": []
    },
    {
      "cell_type": "markdown",
      "id": "fead784d-5668-4a79-b433-77916433dfa9",
      "metadata": {
        "id": "fead784d-5668-4a79-b433-77916433dfa9"
      },
      "source": [
        "<br>\n",
        "\n",
        "## Regression\n",
        "\n",
        "You've now explored different patterns in your data using correlations, clustering, and classification. It's now time to return to your original 2020 data to explore the linear relationships with a simple linear regression. First you'll calculate the ratio of NO₂/NOₓ, then you'll predict the amount of SO₂ based on NO₂, NOₓ, and the dummy variables you created earlier.\n",
        "\n",
        "\n",
        "__(total: 14 marks)__"
      ]
    },
    {
      "cell_type": "markdown",
      "id": "2539f016-80ee-4347-9107-a1e554c620b1",
      "metadata": {
        "id": "2539f016-80ee-4347-9107-a1e554c620b1"
      },
      "source": [
        "Go back to your original `pollution` data with the expanded range of land cover types. You should already have extra dummy variables you created for all land cover types earlier. Create a subset called `pollution_subset` that only includes data for the year 2023."
      ]
    },
    {
      "cell_type": "code",
      "execution_count": null,
      "id": "5caba030-6a2c-4645-93df-a9389bc0ca58",
      "metadata": {
        "id": "5caba030-6a2c-4645-93df-a9389bc0ca58"
      },
      "outputs": [],
      "source": []
    },
    {
      "cell_type": "markdown",
      "id": "Rb4lqLRtC6NH",
      "metadata": {
        "id": "Rb4lqLRtC6NH"
      },
      "source": [
        " Create a new variable in `pollution_subset` called `NOx_NO2_Ratio`. As we are interested in NOx relative to NO2, divide NOx by NO2"
      ]
    },
    {
      "cell_type": "code",
      "execution_count": null,
      "id": "45af1e90-67f0-4a0a-9441-a67bf24a7ae6",
      "metadata": {
        "id": "45af1e90-67f0-4a0a-9441-a67bf24a7ae6"
      },
      "outputs": [],
      "source": []
    },
    {
      "cell_type": "markdown",
      "id": "PXAZdN8INdUt",
      "metadata": {
        "id": "PXAZdN8INdUt"
      },
      "source": [
        "Earlier we checked for missing values, but sometimes, data will have 0 values present. If any zeros were present in the above calculation, then `NOx_NO2_Ratio` will have NaNs present. You will not be able to run an OLS in this case, so lets check for missing values again, this time only for the `NOx_NO2_Ratio`, and remove any rows with missing values."
      ]
    },
    {
      "cell_type": "code",
      "execution_count": null,
      "id": "J59DxLUTOpaN",
      "metadata": {
        "id": "J59DxLUTOpaN",
        "scrolled": true
      },
      "outputs": [],
      "source": []
    },
    {
      "cell_type": "markdown",
      "id": "4e9b016e-b5b0-41fa-89ec-02877fdb827b",
      "metadata": {
        "id": "4e9b016e-b5b0-41fa-89ec-02877fdb827b"
      },
      "source": [
        "__Question 26: We're going to build a linear regression model, but first we need to check for multicollinearity between our variables. Explain what multicollinearity is, and why it's important to check for _(2 marks)___"
      ]
    },
    {
      "cell_type": "code",
      "execution_count": null,
      "id": "1dfc2729-7408-4b21-8474-03472b650aa0",
      "metadata": {
        "id": "1dfc2729-7408-4b21-8474-03472b650aa0"
      },
      "outputs": [],
      "source": []
    },
    {
      "cell_type": "markdown",
      "id": "c84ed920-da4d-484f-b7ba-9bb7d5dd3e87",
      "metadata": {
        "id": "c84ed920-da4d-484f-b7ba-9bb7d5dd3e87"
      },
      "source": [
        "__Question 27: Now check for multicollinearity using `heatmap`. If there are any associations above 0.9, remove one of these variables (remove the one that comes later alphanumerically, for consistency- hint; numbers proceed letters) _(2 marks)___\n",
        "\n",
        "*Hint: for the heatmap add the following parameters to make sure you can read the table:* `annot_kws={\"size\": 8}, fmt=\".2f\"`"
      ]
    },
    {
      "cell_type": "code",
      "execution_count": null,
      "id": "156d6561-0bd3-430b-bc7f-3f7eef5e309e",
      "metadata": {
        "id": "156d6561-0bd3-430b-bc7f-3f7eef5e309e"
      },
      "outputs": [],
      "source": []
    },
    {
      "cell_type": "markdown",
      "id": "1b599764-3f34-4b5b-bc0e-9df64a88d6ea",
      "metadata": {
        "id": "1b599764-3f34-4b5b-bc0e-9df64a88d6ea"
      },
      "source": [
        "__Question 28: _(8 marks)___\n",
        "__Build a linear regression model to predict the SO₂ for each land cover type. Use 'Lc_Freshwater' as your omitted reference category__\n",
        "<BR>\n",
        "__a) What is the R-squared value of the model, and what does this mean? (to 3 decimal places)__ <br>\n",
        "__b) Which variables are statistically significant at the 5% level?__ <br>\n",
        "__c) What are the regression coefficients of the statistically significant variables? (to 3 decimal places)__ <br>\n",
        "__d) Briefly explain what these findings mean.__"
      ]
    },
    {
      "cell_type": "code",
      "execution_count": null,
      "id": "ad7e059c-c00b-4ee9-bcb7-5dcbbf8df5cb",
      "metadata": {
        "id": "ad7e059c-c00b-4ee9-bcb7-5dcbbf8df5cb"
      },
      "outputs": [],
      "source": []
    },
    {
      "cell_type": "markdown",
      "id": "5c3ab17b-e949-412b-b222-c9995d5d0ba7",
      "metadata": {
        "id": "5c3ab17b-e949-412b-b222-c9995d5d0ba7"
      },
      "source": [
        "<br>\n",
        "\n",
        "__Question 29: A linear regression model can tell us about correlations. Explain the difference between correlations and causation, and whether we can infer causation from the results of this model _(2 marks)___"
      ]
    },
    {
      "cell_type": "code",
      "execution_count": null,
      "id": "d299262b-0d59-4d19-930b-b42c0fa8af20",
      "metadata": {
        "id": "d299262b-0d59-4d19-930b-b42c0fa8af20"
      },
      "outputs": [],
      "source": []
    },
    {
      "cell_type": "markdown",
      "id": "dd62fbf8-a185-4669-9774-4424779fe939",
      "metadata": {
        "id": "dd62fbf8-a185-4669-9774-4424779fe939"
      },
      "source": [
        "<br>\n",
        "\n",
        "## Data Joining\n",
        "\n",
        "You'll now proceed to some spatial modelling, so first load into the `LAU2_Dec_2014_FCB_in_England_and_Wales` shape file, and call it `lau2`.\n",
        "\n",
        "Remember, the LAU2 ID is called `lau214cd`."
      ]
    },
    {
      "cell_type": "code",
      "execution_count": null,
      "id": "91cc5b71-da10-440f-be22-d5d192c8d851",
      "metadata": {
        "id": "91cc5b71-da10-440f-be22-d5d192c8d851"
      },
      "outputs": [],
      "source": []
    },
    {
      "cell_type": "markdown",
      "id": "49252ebb-2e64-4061-aba4-fec96f1cffbc",
      "metadata": {
        "id": "49252ebb-2e64-4061-aba4-fec96f1cffbc"
      },
      "source": [
        "Now join the data to the `pollution_subset` data frame, based on the `lau214cd`. Call the new dataset `pollution_lau2`."
      ]
    },
    {
      "cell_type": "code",
      "execution_count": null,
      "id": "25574649-6545-40b0-bd9a-03b6d4a725fd",
      "metadata": {
        "id": "25574649-6545-40b0-bd9a-03b6d4a725fd"
      },
      "outputs": [],
      "source": []
    },
    {
      "cell_type": "markdown",
      "id": "16d12f94-a250-4bcc-a032-a56333c8c842",
      "metadata": {
        "id": "16d12f94-a250-4bcc-a032-a56333c8c842"
      },
      "source": [
        "<br>\n",
        "\n",
        "## Spatial Analysis\n",
        "\n",
        "Now you have your final dataset, you can begin to explore the spatial patterns, and whether a spatial regression model is needed.\n",
        "\n",
        "__(total: 31 marks)__"
      ]
    },
    {
      "cell_type": "markdown",
      "id": "c538f634-583e-4a2c-956f-43740baa33e9",
      "metadata": {
        "id": "c538f634-583e-4a2c-956f-43740baa33e9"
      },
      "source": [
        "<br>\n",
        "\n",
        "__Question 30: Create a choropleth of the SO₂ in each LAU. Use an appropriate colour scheme, and number of quantiles. Remember to not let the legend cover the map. Explain your choice of colour scheme and what you think the choropleth shows _(4 marks)___"
      ]
    },
    {
      "cell_type": "code",
      "execution_count": null,
      "id": "b0920718-7ebb-4613-862a-56b1f1d2bcf7",
      "metadata": {
        "id": "b0920718-7ebb-4613-862a-56b1f1d2bcf7"
      },
      "outputs": [],
      "source": []
    },
    {
      "cell_type": "markdown",
      "id": "693d2208-cdba-40c6-a0e6-6201cfd01cd9",
      "metadata": {
        "id": "693d2208-cdba-40c6-a0e6-6201cfd01cd9"
      },
      "source": [
        "<br>\n",
        "\n",
        "__Question 31:  To statistically explore the spatial patterns, we begin by calculating weights. Calculate K-nearest neighbours based on the LAU column using 20 neighbours. Using the KNN weights: What is the Moran's I value for the SO₂ (to 3 d.p.)? Is it statistically significant? Explain what this means. (_5 marks_)__"
      ]
    },
    {
      "cell_type": "code",
      "execution_count": null,
      "id": "oXCUGeDC0RAF",
      "metadata": {
        "id": "oXCUGeDC0RAF"
      },
      "outputs": [],
      "source": []
    },
    {
      "cell_type": "markdown",
      "id": "a6b7315f-4bba-4ead-8c25-b809844fee20",
      "metadata": {
        "id": "a6b7315f-4bba-4ead-8c25-b809844fee20"
      },
      "source": [
        "<br>\n",
        "    \n",
        "__Question 32: Create a Moran scatterplot and explain what you observe (_2 marks_)__"
      ]
    },
    {
      "cell_type": "code",
      "execution_count": null,
      "id": "fac9e421-5dd9-4fc5-850a-abe3d5f33978",
      "metadata": {
        "id": "fac9e421-5dd9-4fc5-850a-abe3d5f33978"
      },
      "outputs": [],
      "source": []
    },
    {
      "cell_type": "markdown",
      "id": "fc26c92f-9e8b-41c5-8dab-0bf3b4d2a166",
      "metadata": {
        "id": "fc26c92f-9e8b-41c5-8dab-0bf3b4d2a166"
      },
      "source": [
        "<br>\n",
        "\n",
        "__Question 33: Create a LISA cluster map of the average SO₂ emissions, and comment on what you observe, including what is meant by the different cluster types (_4 marks_)__"
      ]
    },
    {
      "cell_type": "code",
      "execution_count": null,
      "id": "44c97774-5d67-45ec-bd90-26dd2ccb47fd",
      "metadata": {
        "id": "44c97774-5d67-45ec-bd90-26dd2ccb47fd"
      },
      "outputs": [],
      "source": []
    },
    {
      "cell_type": "markdown",
      "id": "9b487a20-53e9-48a9-9258-4f6033815f3e",
      "metadata": {
        "id": "9b487a20-53e9-48a9-9258-4f6033815f3e"
      },
      "source": [
        "<br>\n",
        "As there are spatial patterns in this data, this suggests there may be underlying spatial processes, which we can attempt to capture with a GWR model. Usually, you would need to calculate the bandwidth yourself. For simplicity, the bandwidth is specified for you here.\n",
        "<br>\n",
        "<br>\n",
        "\n",
        "__Question 34: Now extend the ealier linear model to a Geographically Weighted Regression, using a bandwidth of 4200. Report:__ <br>\n",
        "\n",
        "__a) The local correlation coefficient for NOx/NO2 mean (GWR mean) _(2 marks)___ <br>\n",
        "\n",
        "__b) Your findings of whether/how this model has accounted for underlying spatial patterns in the data _(3 marks)___"
      ]
    },
    {
      "cell_type": "markdown",
      "id": "j-mYEbVVA_SX",
      "metadata": {
        "id": "j-mYEbVVA_SX"
      },
      "source": [
        "As we have polygons, we need to extract out the centroid for the GWR. We've done this for your below.\n",
        "You can then set these as your co-ordinates, and continue with your GWR model."
      ]
    },
    {
      "cell_type": "code",
      "execution_count": null,
      "id": "5y_0qOpiIn_Q",
      "metadata": {
        "id": "5y_0qOpiIn_Q"
      },
      "outputs": [],
      "source": [
        "pollution_lau2['geometry'] = pollution_lau2.geometry.centroid #calculate the centroid\n",
        "pollution_lau2['x'] = pollution_lau2.geometry.x #extract x\n",
        "pollution_lau2['y'] = pollution_lau2.geometry.y #extract y"
      ]
    },
    {
      "cell_type": "code",
      "execution_count": null,
      "id": "xgwnL6s5Jcya",
      "metadata": {
        "id": "xgwnL6s5Jcya"
      },
      "outputs": [],
      "source": []
    },
    {
      "cell_type": "markdown",
      "id": "dc416dc8-527e-47c6-9921-f495b2ad6e74",
      "metadata": {
        "id": "dc416dc8-527e-47c6-9921-f495b2ad6e74"
      },
      "source": [
        "__Question 35: Now plot how the regression coefficients for the NOX/NO2 ratio and 'Built-up Areas and gardens' across space, and discuss your findings, related to how these variables are associated with the SO2 emissions. (_6 marks_)__"
      ]
    },
    {
      "cell_type": "code",
      "execution_count": null,
      "id": "a9762bf6-a366-42ca-abf3-3f9cb59a4d09",
      "metadata": {
        "id": "a9762bf6-a366-42ca-abf3-3f9cb59a4d09"
      },
      "outputs": [],
      "source": []
    },
    {
      "cell_type": "markdown",
      "id": "98dc832a-77e2-4c28-8822-239f13126ac3",
      "metadata": {
        "id": "98dc832a-77e2-4c28-8822-239f13126ac3"
      },
      "source": [
        "<br>\n",
        "\n",
        "__Question 36: Explain how Geographically Weighted Regression can be used to capture spatial processes in the data, whether there are furhter checks we could do, and what these results  can tell us about the relationship between land use and pollutants across space _(5 marks)___"
      ]
    },
    {
      "cell_type": "code",
      "execution_count": null,
      "id": "a33dd473-6f8c-48ff-a7f6-9a1285514a95",
      "metadata": {
        "id": "a33dd473-6f8c-48ff-a7f6-9a1285514a95"
      },
      "outputs": [],
      "source": []
    },
    {
      "cell_type": "markdown",
      "id": "7e0a0280-136a-49dd-bf30-229a0ee51602",
      "metadata": {
        "jp-MarkdownHeadingCollapsed": true,
        "id": "7e0a0280-136a-49dd-bf30-229a0ee51602"
      },
      "source": [
        "## End of Assessment 1\n",
        "Well done on completing Assessment 1! See below for instructions on generating your PDF."
      ]
    },
    {
      "cell_type": "markdown",
      "id": "67ffc48e-3de5-4fee-b152-f892945b2b8b",
      "metadata": {
        "id": "67ffc48e-3de5-4fee-b152-f892945b2b8b"
      },
      "source": [
        "<br>\n",
        "\n",
        "## ❗️Submission Instructions\n",
        "The deadline for this assignment is 2pm on Friday 6th December, via the Minerva submission area.\n",
        "You __must__ ensure you have __run your notebook in order__ prior to submission (to demonstrate that the code works), and saved your work as a PDF file.\n",
        "\n",
        "### Creating a PDF:\n",
        "On Colab, go to File > Print > Save as PDF.\n",
        "\n",
        "Sometimes, on Chrome or Edge, this can cut off the bottom of your notebook- but this doesn't seem to be an issue on Safari or Firefox, so we recommend you try with one of these browsers first. If you're still having issues, follow the instructions below to export your notebook as a PDF via Google Drive.\n"
      ]
    },
    {
      "cell_type": "markdown",
      "id": "4c4b8c2a-202c-49c8-9f6d-34d4baf66fea",
      "metadata": {
        "id": "4c4b8c2a-202c-49c8-9f6d-34d4baf66fea"
      },
      "source": [
        "__Step 1:__ Make sure you have a Google account, and save your notebook to Drive."
      ]
    },
    {
      "cell_type": "markdown",
      "id": "bd830261-f4f1-4f7c-a1d1-dd244c27f7bf",
      "metadata": {
        "id": "bd830261-f4f1-4f7c-a1d1-dd244c27f7bf"
      },
      "source": [
        "__Step 2:__ Run the following two cells, which connect your notebook to the Drive file path, and set up the export."
      ]
    },
    {
      "cell_type": "code",
      "execution_count": null,
      "id": "-FALdjG5dhlT",
      "metadata": {
        "id": "-FALdjG5dhlT"
      },
      "outputs": [],
      "source": [
        "from google.colab import drive\n",
        "drive.mount('/content/drive')"
      ]
    },
    {
      "cell_type": "code",
      "execution_count": null,
      "id": "M4MTTSr5dh18",
      "metadata": {
        "id": "M4MTTSr5dh18"
      },
      "outputs": [],
      "source": [
        "!sudo apt-get install texlive-xetex texlive-fonts-recommended texlive-plain-generic pandoc"
      ]
    },
    {
      "cell_type": "markdown",
      "id": "a9fb0248-5936-4eb3-b430-4c645ca6f27a",
      "metadata": {
        "id": "a9fb0248-5936-4eb3-b430-4c645ca6f27a"
      },
      "source": [
        "__Step 3:__ Copy the filepath to your notebook- either by using the folder icon on the left of Colab, or via your browser (making sure there are no spaces in the folder names). Then you can update the filepath below, and run the cell. It will save the PDF in the same file on Drive."
      ]
    },
    {
      "cell_type": "code",
      "execution_count": null,
      "id": "90003dd8-c359-4005-86c6-8a18c56a792e",
      "metadata": {
        "id": "90003dd8-c359-4005-86c6-8a18c56a792e"
      },
      "outputs": [],
      "source": [
        "!jupyter nbconvert --to pdf /content/drive/MyDrive/Colab_Notebooks/Assessment1.ipynb"
      ]
    },
    {
      "cell_type": "markdown",
      "id": "e8489f27-6379-40d5-aa93-1840cb2c0d02",
      "metadata": {
        "id": "e8489f27-6379-40d5-aa93-1840cb2c0d02"
      },
      "source": [
        "And that's it!"
      ]
    },
    {
      "cell_type": "markdown",
      "id": "08iufPuFAQCb",
      "metadata": {
        "id": "08iufPuFAQCb",
        "jp-MarkdownHeadingCollapsed": true
      },
      "source": [
        "## References\n",
        "<a name=\"references\"></a>\n",
        "\n",
        "Chang, C.J., Li, G., Zhang, S.Q. and Yu, K.P., 2019. Employing a fuzzy-based grey modeling procedure to forecast China's sulfur dioxide emissions. *International Journal of Environmental Research and Public Health*, 16(14), p.2504. Available from: https://doi.org/10.3390/ijerph16142504\n",
        "\n",
        "Liu, X., Fang, W., Li, H., Han, X. and Xiao, H., 2021. Is Urbanization Good for the Health of Middle-Aged and Elderly People in China?—Based on CHARLS Data. *Sustainability*, 13(9), p.4996. Available from: https://doi.org/10.3390/su13094996\n",
        "\n",
        "Oxley, T., Dore, A.J., ApSimon, H., Hall, J. and Kryza, M., 2013. Modelling future impacts of air pollution using the multi-scale UK Integrated Assessment Model (UKIAM). Environment international, 61, pp.17-35. Available from: https://doi.org/10.1016/j.envint.2013.09.009\n",
        "\n",
        "Yeung, D.W., Zhang, Y., Bai, H. and Islam, S., 2021. Collaborative environmental management for transboundary air pollution problems: A differential levies game. Journal of Industrial & Management Optimization, 17(2). Available from: https://doi.org/10.3934/jimo.2019121\n",
        "\n",
        "Yorifuji, T., Kashima, S., Suryadhi, M.A.H. and Abudureyimu, K., 2019. Acute exposure to sulfur dioxide and mortality: historical data from Yokkaichi, Japan. *Archives of Environmental & Occupational Health*, 74(5), pp.271-278. Available from: https://doi.org/10.1080/19338244.2018.1434474\n",
        "\n",
        "<br>\n",
        "\n",
        "\n",
        "↑  [Click here to go to the top of the notebook](#top) ↑"
      ]
    }
  ],
  "metadata": {
    "accelerator": "GPU",
    "colab": {
      "gpuType": "T4",
      "machine_shape": "hm",
      "provenance": []
    },
    "kernelspec": {
      "display_name": "Python 3 (ipykernel)",
      "language": "python",
      "name": "python3"
    },
    "language_info": {
      "codemirror_mode": {
        "name": "ipython",
        "version": 3
      },
      "file_extension": ".py",
      "mimetype": "text/x-python",
      "name": "python",
      "nbconvert_exporter": "python",
      "pygments_lexer": "ipython3",
      "version": "3.12.4"
    }
  },
  "nbformat": 4,
  "nbformat_minor": 5
}